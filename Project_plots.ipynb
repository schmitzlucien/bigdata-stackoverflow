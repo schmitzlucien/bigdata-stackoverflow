{
 "cells": [
  {
   "cell_type": "code",
   "execution_count": 1,
   "metadata": {},
   "outputs": [],
   "source": [
    "import numpy as np\n",
    "import pandas as pd"
   ]
  },
  {
   "cell_type": "code",
   "execution_count": 2,
   "metadata": {},
   "outputs": [],
   "source": [
    "# import plotnine objects\n",
    "from plotnine import *"
   ]
  },
  {
   "cell_type": "code",
   "execution_count": 3,
   "metadata": {},
   "outputs": [],
   "source": [
    "def group_date(date):\n",
    "    if date.month > 6:\n",
    "        semester=2\n",
    "    else:\n",
    "        semester=1\n",
    "    return date.strftime('%Y') + \"-\" + str(semester)\n",
    "def daysbetween(date1, date2):\n",
    "    grouping=[365,1800,2800,999999]\n",
    "    values=[\"very short\", \"short\", \"mid\", \"long\"]\n",
    "    delta=date2 - date1\n",
    "    days=delta.days\n",
    "    group=0\n",
    "    for index, group_max_days in enumerate(grouping):\n",
    "        if days <= group_max_days:\n",
    "            group = index\n",
    "            break\n",
    "    return values[group]"
   ]
  },
  {
   "cell_type": "code",
   "execution_count": null,
   "metadata": {},
   "outputs": [],
   "source": []
  },
  {
   "cell_type": "code",
   "execution_count": 4,
   "metadata": {},
   "outputs": [
    {
     "data": {
      "text/html": [
       "<div>\n",
       "<style scoped>\n",
       "    .dataframe tbody tr th:only-of-type {\n",
       "        vertical-align: middle;\n",
       "    }\n",
       "\n",
       "    .dataframe tbody tr th {\n",
       "        vertical-align: top;\n",
       "    }\n",
       "\n",
       "    .dataframe thead th {\n",
       "        text-align: right;\n",
       "    }\n",
       "</style>\n",
       "<table border=\"1\" class=\"dataframe\">\n",
       "  <thead>\n",
       "    <tr style=\"text-align: right;\">\n",
       "      <th></th>\n",
       "      <th>Age</th>\n",
       "      <th>CreationDate</th>\n",
       "      <th>LastAccessDate</th>\n",
       "      <th>Location</th>\n",
       "      <th>Reputation</th>\n",
       "    </tr>\n",
       "  </thead>\n",
       "  <tbody>\n",
       "    <tr>\n",
       "      <th>0</th>\n",
       "      <td>0</td>\n",
       "      <td>2008-07-31 00:00:00.000</td>\n",
       "      <td>2008-08-26 00:16:53.810</td>\n",
       "      <td>on the server farm</td>\n",
       "      <td>1</td>\n",
       "    </tr>\n",
       "    <tr>\n",
       "      <th>1</th>\n",
       "      <td>0</td>\n",
       "      <td>2008-07-31 14:22:31.287</td>\n",
       "      <td>2018-10-29 01:22:39.303</td>\n",
       "      <td>El Cerrito, CA</td>\n",
       "      <td>45009</td>\n",
       "    </tr>\n",
       "    <tr>\n",
       "      <th>2</th>\n",
       "      <td>0</td>\n",
       "      <td>2008-07-31 14:22:31.287</td>\n",
       "      <td>2018-11-30 22:29:47.533</td>\n",
       "      <td>Corvallis, OR</td>\n",
       "      <td>3509</td>\n",
       "    </tr>\n",
       "    <tr>\n",
       "      <th>3</th>\n",
       "      <td>0</td>\n",
       "      <td>2008-07-31 14:22:31.287</td>\n",
       "      <td>2018-11-30 18:40:21.677</td>\n",
       "      <td>Raleigh, NC, United States</td>\n",
       "      <td>13503</td>\n",
       "    </tr>\n",
       "    <tr>\n",
       "      <th>4</th>\n",
       "      <td>0</td>\n",
       "      <td>2008-07-31 14:22:31.317</td>\n",
       "      <td>2018-12-01 15:33:40.507</td>\n",
       "      <td>New York, NY</td>\n",
       "      <td>28953</td>\n",
       "    </tr>\n",
       "  </tbody>\n",
       "</table>\n",
       "</div>"
      ],
      "text/plain": [
       "   Age            CreationDate          LastAccessDate  \\\n",
       "0    0 2008-07-31 00:00:00.000 2008-08-26 00:16:53.810   \n",
       "1    0 2008-07-31 14:22:31.287 2018-10-29 01:22:39.303   \n",
       "2    0 2008-07-31 14:22:31.287 2018-11-30 22:29:47.533   \n",
       "3    0 2008-07-31 14:22:31.287 2018-11-30 18:40:21.677   \n",
       "4    0 2008-07-31 14:22:31.317 2018-12-01 15:33:40.507   \n",
       "\n",
       "                     Location  Reputation  \n",
       "0          on the server farm           1  \n",
       "1              El Cerrito, CA       45009  \n",
       "2               Corvallis, OR        3509  \n",
       "3  Raleigh, NC, United States       13503  \n",
       "4                New York, NY       28953  "
      ]
     },
     "execution_count": 4,
     "metadata": {},
     "output_type": "execute_result"
    }
   ],
   "source": [
    "df = pd.read_csv('Users.csv', usecols=[1,2,3,4,5])\n",
    "df = df.astype({'CreationDate': 'datetime64',\n",
    "               'LastAccessDate': 'datetime64'})\n",
    "df['Location'] = df.Location.astype(str)\n",
    "df.head()"
   ]
  },
  {
   "cell_type": "code",
   "execution_count": 7,
   "metadata": {
    "scrolled": true
   },
   "outputs": [
    {
     "name": "stdout",
     "output_type": "stream",
     "text": [
      "<class 'pandas.core.frame.DataFrame'>\n",
      "RangeIndex: 9737247 entries, 0 to 9737246\n",
      "Data columns (total 6 columns):\n",
      "Age                          int64\n",
      "CreationDate                 datetime64[ns]\n",
      "LastAccessDate               datetime64[ns]\n",
      "Location                     object\n",
      "Reputation                   int64\n",
      "DaysBetweenCreationAccess    object\n",
      "dtypes: datetime64[ns](2), int64(2), object(2)\n",
      "memory usage: 445.7+ MB\n"
     ]
    }
   ],
   "source": [
    "df.info()"
   ]
  },
  {
   "cell_type": "code",
   "execution_count": 6,
   "metadata": {},
   "outputs": [
    {
     "data": {
      "text/html": [
       "<div>\n",
       "<style scoped>\n",
       "    .dataframe tbody tr th:only-of-type {\n",
       "        vertical-align: middle;\n",
       "    }\n",
       "\n",
       "    .dataframe tbody tr th {\n",
       "        vertical-align: top;\n",
       "    }\n",
       "\n",
       "    .dataframe thead th {\n",
       "        text-align: right;\n",
       "    }\n",
       "</style>\n",
       "<table border=\"1\" class=\"dataframe\">\n",
       "  <thead>\n",
       "    <tr style=\"text-align: right;\">\n",
       "      <th></th>\n",
       "      <th>Age</th>\n",
       "      <th>CreationDate</th>\n",
       "      <th>LastAccessDate</th>\n",
       "      <th>Location</th>\n",
       "      <th>Reputation</th>\n",
       "    </tr>\n",
       "  </thead>\n",
       "  <tbody>\n",
       "    <tr>\n",
       "      <th>count</th>\n",
       "      <td>9737247.0</td>\n",
       "      <td>9737247</td>\n",
       "      <td>9737247</td>\n",
       "      <td>9737247</td>\n",
       "      <td>9.737247e+06</td>\n",
       "    </tr>\n",
       "    <tr>\n",
       "      <th>unique</th>\n",
       "      <td>NaN</td>\n",
       "      <td>9736300</td>\n",
       "      <td>9726637</td>\n",
       "      <td>165102</td>\n",
       "      <td>NaN</td>\n",
       "    </tr>\n",
       "    <tr>\n",
       "      <th>top</th>\n",
       "      <td>NaN</td>\n",
       "      <td>2008-07-31 14:22:31.287000</td>\n",
       "      <td>2018-11-30 15:43:42.443000</td>\n",
       "      <td>nan</td>\n",
       "      <td>NaN</td>\n",
       "    </tr>\n",
       "    <tr>\n",
       "      <th>freq</th>\n",
       "      <td>NaN</td>\n",
       "      <td>3</td>\n",
       "      <td>4</td>\n",
       "      <td>7386885</td>\n",
       "      <td>NaN</td>\n",
       "    </tr>\n",
       "    <tr>\n",
       "      <th>first</th>\n",
       "      <td>NaN</td>\n",
       "      <td>2008-07-31 00:00:00</td>\n",
       "      <td>2008-08-01 00:59:11.147000</td>\n",
       "      <td>NaN</td>\n",
       "      <td>NaN</td>\n",
       "    </tr>\n",
       "    <tr>\n",
       "      <th>last</th>\n",
       "      <td>NaN</td>\n",
       "      <td>2018-12-02 04:49:02.637000</td>\n",
       "      <td>2018-12-02 04:50:40.037000</td>\n",
       "      <td>NaN</td>\n",
       "      <td>NaN</td>\n",
       "    </tr>\n",
       "    <tr>\n",
       "      <th>mean</th>\n",
       "      <td>0.0</td>\n",
       "      <td>NaN</td>\n",
       "      <td>NaN</td>\n",
       "      <td>NaN</td>\n",
       "      <td>1.088793e+02</td>\n",
       "    </tr>\n",
       "    <tr>\n",
       "      <th>std</th>\n",
       "      <td>0.0</td>\n",
       "      <td>NaN</td>\n",
       "      <td>NaN</td>\n",
       "      <td>NaN</td>\n",
       "      <td>2.279600e+03</td>\n",
       "    </tr>\n",
       "    <tr>\n",
       "      <th>min</th>\n",
       "      <td>0.0</td>\n",
       "      <td>NaN</td>\n",
       "      <td>NaN</td>\n",
       "      <td>NaN</td>\n",
       "      <td>1.000000e+00</td>\n",
       "    </tr>\n",
       "    <tr>\n",
       "      <th>25%</th>\n",
       "      <td>0.0</td>\n",
       "      <td>NaN</td>\n",
       "      <td>NaN</td>\n",
       "      <td>NaN</td>\n",
       "      <td>1.000000e+00</td>\n",
       "    </tr>\n",
       "    <tr>\n",
       "      <th>50%</th>\n",
       "      <td>0.0</td>\n",
       "      <td>NaN</td>\n",
       "      <td>NaN</td>\n",
       "      <td>NaN</td>\n",
       "      <td>1.000000e+00</td>\n",
       "    </tr>\n",
       "    <tr>\n",
       "      <th>75%</th>\n",
       "      <td>0.0</td>\n",
       "      <td>NaN</td>\n",
       "      <td>NaN</td>\n",
       "      <td>NaN</td>\n",
       "      <td>6.000000e+00</td>\n",
       "    </tr>\n",
       "    <tr>\n",
       "      <th>max</th>\n",
       "      <td>0.0</td>\n",
       "      <td>NaN</td>\n",
       "      <td>NaN</td>\n",
       "      <td>NaN</td>\n",
       "      <td>1.070456e+06</td>\n",
       "    </tr>\n",
       "  </tbody>\n",
       "</table>\n",
       "</div>"
      ],
      "text/plain": [
       "              Age                CreationDate              LastAccessDate  \\\n",
       "count   9737247.0                     9737247                     9737247   \n",
       "unique        NaN                     9736300                     9726637   \n",
       "top           NaN  2008-07-31 14:22:31.287000  2018-11-30 15:43:42.443000   \n",
       "freq          NaN                           3                           4   \n",
       "first         NaN         2008-07-31 00:00:00  2008-08-01 00:59:11.147000   \n",
       "last          NaN  2018-12-02 04:49:02.637000  2018-12-02 04:50:40.037000   \n",
       "mean          0.0                         NaN                         NaN   \n",
       "std           0.0                         NaN                         NaN   \n",
       "min           0.0                         NaN                         NaN   \n",
       "25%           0.0                         NaN                         NaN   \n",
       "50%           0.0                         NaN                         NaN   \n",
       "75%           0.0                         NaN                         NaN   \n",
       "max           0.0                         NaN                         NaN   \n",
       "\n",
       "       Location    Reputation  \n",
       "count   9737247  9.737247e+06  \n",
       "unique   165102           NaN  \n",
       "top         nan           NaN  \n",
       "freq    7386885           NaN  \n",
       "first       NaN           NaN  \n",
       "last        NaN           NaN  \n",
       "mean        NaN  1.088793e+02  \n",
       "std         NaN  2.279600e+03  \n",
       "min         NaN  1.000000e+00  \n",
       "25%         NaN  1.000000e+00  \n",
       "50%         NaN  1.000000e+00  \n",
       "75%         NaN  6.000000e+00  \n",
       "max         NaN  1.070456e+06  "
      ]
     },
     "execution_count": 6,
     "metadata": {},
     "output_type": "execute_result"
    }
   ],
   "source": [
    "df.describe(include='all')"
   ]
  },
  {
   "cell_type": "code",
   "execution_count": 8,
   "metadata": {},
   "outputs": [
    {
     "name": "stdout",
     "output_type": "stream",
     "text": [
      "<class 'pandas.core.frame.DataFrame'>\n",
      "RangeIndex: 9737247 entries, 0 to 9737246\n",
      "Data columns (total 7 columns):\n",
      "Age                          int64\n",
      "CreationDate                 datetime64[ns]\n",
      "LastAccessDate               datetime64[ns]\n",
      "Location                     object\n",
      "Reputation                   int64\n",
      "DaysBetweenCreationAccess    object\n",
      "CreationDateSemester         object\n",
      "dtypes: datetime64[ns](2), int64(2), object(3)\n",
      "memory usage: 520.0+ MB\n"
     ]
    }
   ],
   "source": [
    "df['CreationDateSemester'] = df.apply(lambda row: group_date(row['CreationDate']),axis=1)\n",
    "df.info()"
   ]
  },
  {
   "cell_type": "code",
   "execution_count": 9,
   "metadata": {},
   "outputs": [
    {
     "data": {
      "image/png": "[encoded data removed]",
      "text/plain": [
       "<Figure size 640x480 with 1 Axes>"
      ]
     },
     "metadata": {},
     "output_type": "display_data"
    },
    {
     "data": {
      "text/plain": [
       "<ggplot: (-9223371863948744942)>"
      ]
     },
     "execution_count": 9,
     "metadata": {},
     "output_type": "execute_result"
    }
   ],
   "source": [
    "plot = ggplot(df, aes(x='CreationDateSemester'))\n",
    "plot += geom_bar(stat=\"count\")\n",
    "plot += ggtitle(\"Number of new users created per semester\")\n",
    "plot += ylab(\"Number of users\")\n",
    "plot += xlab(\"Creation date\")\n",
    "plot += coord_flip()\n",
    "plot"
   ]
  },
  {
   "cell_type": "code",
   "execution_count": 5,
   "metadata": {},
   "outputs": [
    {
     "data": {
      "text/html": [
       "<div>\n",
       "<style scoped>\n",
       "    .dataframe tbody tr th:only-of-type {\n",
       "        vertical-align: middle;\n",
       "    }\n",
       "\n",
       "    .dataframe tbody tr th {\n",
       "        vertical-align: top;\n",
       "    }\n",
       "\n",
       "    .dataframe thead th {\n",
       "        text-align: right;\n",
       "    }\n",
       "</style>\n",
       "<table border=\"1\" class=\"dataframe\">\n",
       "  <thead>\n",
       "    <tr style=\"text-align: right;\">\n",
       "      <th></th>\n",
       "      <th>Age</th>\n",
       "      <th>CreationDate</th>\n",
       "      <th>LastAccessDate</th>\n",
       "      <th>Location</th>\n",
       "      <th>Reputation</th>\n",
       "      <th>DaysBetweenCreationAccess</th>\n",
       "    </tr>\n",
       "  </thead>\n",
       "  <tbody>\n",
       "    <tr>\n",
       "      <th>0</th>\n",
       "      <td>0</td>\n",
       "      <td>2008-07-31 00:00:00.000</td>\n",
       "      <td>2008-08-26 00:16:53.810</td>\n",
       "      <td>on the server farm</td>\n",
       "      <td>1</td>\n",
       "      <td>very short</td>\n",
       "    </tr>\n",
       "    <tr>\n",
       "      <th>1</th>\n",
       "      <td>0</td>\n",
       "      <td>2008-07-31 14:22:31.287</td>\n",
       "      <td>2018-10-29 01:22:39.303</td>\n",
       "      <td>El Cerrito, CA</td>\n",
       "      <td>45009</td>\n",
       "      <td>long</td>\n",
       "    </tr>\n",
       "    <tr>\n",
       "      <th>2</th>\n",
       "      <td>0</td>\n",
       "      <td>2008-07-31 14:22:31.287</td>\n",
       "      <td>2018-11-30 22:29:47.533</td>\n",
       "      <td>Corvallis, OR</td>\n",
       "      <td>3509</td>\n",
       "      <td>long</td>\n",
       "    </tr>\n",
       "    <tr>\n",
       "      <th>3</th>\n",
       "      <td>0</td>\n",
       "      <td>2008-07-31 14:22:31.287</td>\n",
       "      <td>2018-11-30 18:40:21.677</td>\n",
       "      <td>Raleigh, NC, United States</td>\n",
       "      <td>13503</td>\n",
       "      <td>long</td>\n",
       "    </tr>\n",
       "    <tr>\n",
       "      <th>4</th>\n",
       "      <td>0</td>\n",
       "      <td>2008-07-31 14:22:31.317</td>\n",
       "      <td>2018-12-01 15:33:40.507</td>\n",
       "      <td>New York, NY</td>\n",
       "      <td>28953</td>\n",
       "      <td>long</td>\n",
       "    </tr>\n",
       "  </tbody>\n",
       "</table>\n",
       "</div>"
      ],
      "text/plain": [
       "   Age            CreationDate          LastAccessDate  \\\n",
       "0    0 2008-07-31 00:00:00.000 2008-08-26 00:16:53.810   \n",
       "1    0 2008-07-31 14:22:31.287 2018-10-29 01:22:39.303   \n",
       "2    0 2008-07-31 14:22:31.287 2018-11-30 22:29:47.533   \n",
       "3    0 2008-07-31 14:22:31.287 2018-11-30 18:40:21.677   \n",
       "4    0 2008-07-31 14:22:31.317 2018-12-01 15:33:40.507   \n",
       "\n",
       "                     Location  Reputation DaysBetweenCreationAccess  \n",
       "0          on the server farm           1                very short  \n",
       "1              El Cerrito, CA       45009                      long  \n",
       "2               Corvallis, OR        3509                      long  \n",
       "3  Raleigh, NC, United States       13503                      long  \n",
       "4                New York, NY       28953                      long  "
      ]
     },
     "execution_count": 5,
     "metadata": {},
     "output_type": "execute_result"
    }
   ],
   "source": [
    "df['DaysBetweenCreationAccess'] = df.apply(lambda row: daysbetween(row['CreationDate'], row['LastAccessDate']),axis=1)\n",
    "df.head()"
   ]
  },
  {
   "cell_type": "code",
   "execution_count": 6,
   "metadata": {},
   "outputs": [
    {
     "data": {
      "image/png": "[encoded data removed]",
      "text/plain": [
       "<Figure size 640x480 with 1 Axes>"
      ]
     },
     "metadata": {},
     "output_type": "display_data"
    },
    {
     "data": {
      "text/plain": [
       "<ggplot: (-9223371863948767509)>"
      ]
     },
     "execution_count": 6,
     "metadata": {},
     "output_type": "execute_result"
    }
   ],
   "source": [
    "plot = ggplot(df, aes(x=\"DaysBetweenCreationAccess\"))\n",
    "plot += geom_bar(stat=\"count\")\n",
    "plot += ggtitle(\"Number of days between creation date and last access date\")\n",
    "plot += xlab(\"Number of days\")\n",
    "plot += ylab(\"Number of users\")\n",
    "plot"
   ]
  },
  {
   "cell_type": "code",
   "execution_count": null,
   "metadata": {},
   "outputs": [],
   "source": []
  }
 ],
 "metadata": {
  "kernelspec": {
   "display_name": "Python 3",
   "language": "python",
   "name": "python3"
  },
  "language_info": {
   "codemirror_mode": {
    "name": "ipython",
    "version": 3
   },
   "file_extension": ".py",
   "mimetype": "text/x-python",
   "name": "python",
   "nbconvert_exporter": "python",
   "pygments_lexer": "ipython3",
   "version": "3.7.0"
  }
 },
 "nbformat": 4,
 "nbformat_minor": 2
}
