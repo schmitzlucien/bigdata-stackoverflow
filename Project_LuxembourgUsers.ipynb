{
 "cells": [
  {
   "cell_type": "code",
   "execution_count": 1,
   "metadata": {},
   "outputs": [],
   "source": [
    "import numpy as np\n",
    "import pandas as pd\n",
    "import dask.bag as db\n",
    "import dask.dataframe as dd\n",
    "import matplotlib.pyplot as plt\n",
    "import seaborn as sns"
   ]
  },
  {
   "cell_type": "code",
   "execution_count": 2,
   "metadata": {},
   "outputs": [
    {
     "data": {
      "text/html": [
       "<div>\n",
       "<style scoped>\n",
       "    .dataframe tbody tr th:only-of-type {\n",
       "        vertical-align: middle;\n",
       "    }\n",
       "\n",
       "    .dataframe tbody tr th {\n",
       "        vertical-align: top;\n",
       "    }\n",
       "\n",
       "    .dataframe thead th {\n",
       "        text-align: right;\n",
       "    }\n",
       "</style>\n",
       "<table border=\"1\" class=\"dataframe\">\n",
       "  <thead>\n",
       "    <tr style=\"text-align: right;\">\n",
       "      <th></th>\n",
       "      <th>CreationDate</th>\n",
       "      <th>LastAccessDate</th>\n",
       "      <th>Location</th>\n",
       "      <th>Reputation</th>\n",
       "    </tr>\n",
       "  </thead>\n",
       "  <tbody>\n",
       "    <tr>\n",
       "      <th>0</th>\n",
       "      <td>2008-07-31 00:00:00.000</td>\n",
       "      <td>2008-08-26 00:16:53.810</td>\n",
       "      <td>on the server farm</td>\n",
       "      <td>1</td>\n",
       "    </tr>\n",
       "    <tr>\n",
       "      <th>1</th>\n",
       "      <td>2008-07-31 14:22:31.287</td>\n",
       "      <td>2018-10-29 01:22:39.303</td>\n",
       "      <td>El Cerrito, CA</td>\n",
       "      <td>45009</td>\n",
       "    </tr>\n",
       "    <tr>\n",
       "      <th>2</th>\n",
       "      <td>2008-07-31 14:22:31.287</td>\n",
       "      <td>2018-11-30 22:29:47.533</td>\n",
       "      <td>Corvallis, OR</td>\n",
       "      <td>3509</td>\n",
       "    </tr>\n",
       "    <tr>\n",
       "      <th>3</th>\n",
       "      <td>2008-07-31 14:22:31.287</td>\n",
       "      <td>2018-11-30 18:40:21.677</td>\n",
       "      <td>Raleigh, NC, United States</td>\n",
       "      <td>13503</td>\n",
       "    </tr>\n",
       "    <tr>\n",
       "      <th>4</th>\n",
       "      <td>2008-07-31 14:22:31.317</td>\n",
       "      <td>2018-12-01 15:33:40.507</td>\n",
       "      <td>New York, NY</td>\n",
       "      <td>28953</td>\n",
       "    </tr>\n",
       "  </tbody>\n",
       "</table>\n",
       "</div>"
      ],
      "text/plain": [
       "             CreationDate          LastAccessDate                    Location  \\\n",
       "0 2008-07-31 00:00:00.000 2008-08-26 00:16:53.810          on the server farm   \n",
       "1 2008-07-31 14:22:31.287 2018-10-29 01:22:39.303              El Cerrito, CA   \n",
       "2 2008-07-31 14:22:31.287 2018-11-30 22:29:47.533               Corvallis, OR   \n",
       "3 2008-07-31 14:22:31.287 2018-11-30 18:40:21.677  Raleigh, NC, United States   \n",
       "4 2008-07-31 14:22:31.317 2018-12-01 15:33:40.507                New York, NY   \n",
       "\n",
       "   Reputation  \n",
       "0           1  \n",
       "1       45009  \n",
       "2        3509  \n",
       "3       13503  \n",
       "4       28953  "
      ]
     },
     "execution_count": 2,
     "metadata": {},
     "output_type": "execute_result"
    }
   ],
   "source": [
    "df = pd.read_csv('Users.csv', usecols=[2,3,4,5])\n",
    "df = df.astype({'CreationDate': 'datetime64',\n",
    "               'LastAccessDate': 'datetime64'})\n",
    "df['Location'] = df.Location.astype(str)\n",
    "df.head()"
   ]
  },
  {
   "cell_type": "code",
   "execution_count": 3,
   "metadata": {},
   "outputs": [
    {
     "data": {
      "text/html": [
       "<div>\n",
       "<style scoped>\n",
       "    .dataframe tbody tr th:only-of-type {\n",
       "        vertical-align: middle;\n",
       "    }\n",
       "\n",
       "    .dataframe tbody tr th {\n",
       "        vertical-align: top;\n",
       "    }\n",
       "\n",
       "    .dataframe thead th {\n",
       "        text-align: right;\n",
       "    }\n",
       "</style>\n",
       "<table border=\"1\" class=\"dataframe\">\n",
       "  <thead>\n",
       "    <tr style=\"text-align: right;\">\n",
       "      <th></th>\n",
       "      <th>CreationDate</th>\n",
       "      <th>LastAccessDate</th>\n",
       "      <th>Location</th>\n",
       "      <th>Reputation</th>\n",
       "    </tr>\n",
       "  </thead>\n",
       "  <tbody>\n",
       "    <tr>\n",
       "      <th>303</th>\n",
       "      <td>2008-08-05 12:27:15.200</td>\n",
       "      <td>2018-11-27 13:07:51.633</td>\n",
       "      <td>Luxembourg</td>\n",
       "      <td>1166</td>\n",
       "    </tr>\n",
       "    <tr>\n",
       "      <th>426</th>\n",
       "      <td>2008-08-06 18:24:06.070</td>\n",
       "      <td>2018-11-21 09:54:28.767</td>\n",
       "      <td>Luxembourg City, Luxembourg</td>\n",
       "      <td>3202</td>\n",
       "    </tr>\n",
       "    <tr>\n",
       "      <th>761</th>\n",
       "      <td>2008-08-11 13:24:18.647</td>\n",
       "      <td>2018-12-01 17:20:57.203</td>\n",
       "      <td>Luxembourg City, Luxembourg</td>\n",
       "      <td>3604</td>\n",
       "    </tr>\n",
       "    <tr>\n",
       "      <th>5843</th>\n",
       "      <td>2008-09-15 20:25:38.010</td>\n",
       "      <td>2018-10-20 14:54:55.923</td>\n",
       "      <td>Luxembourg</td>\n",
       "      <td>16</td>\n",
       "    </tr>\n",
       "    <tr>\n",
       "      <th>13872</th>\n",
       "      <td>2008-10-17 21:09:26.013</td>\n",
       "      <td>2018-11-30 16:08:24.517</td>\n",
       "      <td>Luxembourg</td>\n",
       "      <td>134</td>\n",
       "    </tr>\n",
       "  </tbody>\n",
       "</table>\n",
       "</div>"
      ],
      "text/plain": [
       "                 CreationDate          LastAccessDate  \\\n",
       "303   2008-08-05 12:27:15.200 2018-11-27 13:07:51.633   \n",
       "426   2008-08-06 18:24:06.070 2018-11-21 09:54:28.767   \n",
       "761   2008-08-11 13:24:18.647 2018-12-01 17:20:57.203   \n",
       "5843  2008-09-15 20:25:38.010 2018-10-20 14:54:55.923   \n",
       "13872 2008-10-17 21:09:26.013 2018-11-30 16:08:24.517   \n",
       "\n",
       "                          Location  Reputation  \n",
       "303                     Luxembourg        1166  \n",
       "426    Luxembourg City, Luxembourg        3202  \n",
       "761    Luxembourg City, Luxembourg        3604  \n",
       "5843                    Luxembourg          16  \n",
       "13872                   Luxembourg         134  "
      ]
     },
     "execution_count": 3,
     "metadata": {},
     "output_type": "execute_result"
    }
   ],
   "source": [
    "df = df[df['Location'].str.contains(\"Luxembourg\")]\n",
    "df.head()"
   ]
  },
  {
   "cell_type": "code",
   "execution_count": 4,
   "metadata": {},
   "outputs": [
    {
     "name": "stdout",
     "output_type": "stream",
     "text": [
      "<class 'pandas.core.frame.DataFrame'>\n",
      "Int64Index: 834 entries, 303 to 9732465\n",
      "Data columns (total 4 columns):\n",
      "CreationDate      834 non-null datetime64[ns]\n",
      "LastAccessDate    834 non-null datetime64[ns]\n",
      "Location          834 non-null object\n",
      "Reputation        834 non-null int64\n",
      "dtypes: datetime64[ns](2), int64(1), object(1)\n",
      "memory usage: 32.6+ KB\n"
     ]
    }
   ],
   "source": [
    "df.info()"
   ]
  },
  {
   "cell_type": "code",
   "execution_count": 5,
   "metadata": {},
   "outputs": [
    {
     "data": {
      "text/html": [
       "<div>\n",
       "<style scoped>\n",
       "    .dataframe tbody tr th:only-of-type {\n",
       "        vertical-align: middle;\n",
       "    }\n",
       "\n",
       "    .dataframe tbody tr th {\n",
       "        vertical-align: top;\n",
       "    }\n",
       "\n",
       "    .dataframe thead th {\n",
       "        text-align: right;\n",
       "    }\n",
       "</style>\n",
       "<table border=\"1\" class=\"dataframe\">\n",
       "  <thead>\n",
       "    <tr style=\"text-align: right;\">\n",
       "      <th></th>\n",
       "      <th>Reputation</th>\n",
       "    </tr>\n",
       "  </thead>\n",
       "  <tbody>\n",
       "    <tr>\n",
       "      <th>count</th>\n",
       "      <td>834.000000</td>\n",
       "    </tr>\n",
       "    <tr>\n",
       "      <th>mean</th>\n",
       "      <td>436.779376</td>\n",
       "    </tr>\n",
       "    <tr>\n",
       "      <th>std</th>\n",
       "      <td>2323.204508</td>\n",
       "    </tr>\n",
       "    <tr>\n",
       "      <th>min</th>\n",
       "      <td>1.000000</td>\n",
       "    </tr>\n",
       "    <tr>\n",
       "      <th>25%</th>\n",
       "      <td>1.000000</td>\n",
       "    </tr>\n",
       "    <tr>\n",
       "      <th>50%</th>\n",
       "      <td>4.500000</td>\n",
       "    </tr>\n",
       "    <tr>\n",
       "      <th>75%</th>\n",
       "      <td>85.500000</td>\n",
       "    </tr>\n",
       "    <tr>\n",
       "      <th>max</th>\n",
       "      <td>46219.000000</td>\n",
       "    </tr>\n",
       "  </tbody>\n",
       "</table>\n",
       "</div>"
      ],
      "text/plain": [
       "         Reputation\n",
       "count    834.000000\n",
       "mean     436.779376\n",
       "std     2323.204508\n",
       "min        1.000000\n",
       "25%        1.000000\n",
       "50%        4.500000\n",
       "75%       85.500000\n",
       "max    46219.000000"
      ]
     },
     "execution_count": 5,
     "metadata": {},
     "output_type": "execute_result"
    }
   ],
   "source": [
    "df.describe() "
   ]
  },
  {
   "cell_type": "code",
   "execution_count": 6,
   "metadata": {},
   "outputs": [
    {
     "data": {
      "image/png": "[encoded data removed]",
      "text/plain": [
       "<Figure size 1296x504 with 1 Axes>"
      ]
     },
     "metadata": {
      "needs_background": "light"
     },
     "output_type": "display_data"
    }
   ],
   "source": [
    "plt.rcParams[\"axes.labelsize\"] = 14\n",
    "plt.rcParams[\"xtick.labelsize\"] =8\n",
    "plt.rcParams[\"ytick.labelsize\"] = 14\n",
    "plt.rcParams[\"figure.figsize\"] = [18, 7]\n",
    "\n",
    "usrCY = df['CreationDate'].groupby(df.CreationDate.dt.to_period(\"Y\")).agg('count')\n",
    "usrCY.plot.bar().set(xlabel = 'Year', ylabel = 'Number of New Users')\n",
    "plt.show()"
   ]
  },
  {
   "cell_type": "code",
   "execution_count": 7,
   "metadata": {},
   "outputs": [
    {
     "data": {
      "image/png": "[encoded data removed]",
      "text/plain": [
       "<Figure size 648x504 with 2 Axes>"
      ]
     },
     "metadata": {
      "needs_background": "light"
     },
     "output_type": "display_data"
    }
   ],
   "source": [
    "import seaborn as sns\n",
    "new = df['CreationDate'].groupby([df.CreationDate.dt.year.rename('year'), df.CreationDate.dt.month.rename('month')]).agg('count').reset_index()\n",
    "new = new.pivot('year', 'month')\n",
    "plt.rcParams[\"figure.figsize\"] = [9, 7]\n",
    "plt.rcParams[\"axes.titlesize\"] = 18\n",
    "hm = sns.heatmap(new, annot=True, cmap='inferno', xticklabels=['jan', 'feb', 'mar', 'apr', 'may', 'jun', 'jul', 'aug', 'sep', 'oct', 'nov', 'dec'])\n",
    "hm.set(xlabel='Month', ylabel='Year', title='Number Of New Luxembourgish Users Per Month Per Year')\n",
    "plt.show()"
   ]
  },
  {
   "cell_type": "code",
   "execution_count": null,
   "metadata": {},
   "outputs": [],
   "source": []
  }
 ],
 "metadata": {
  "kernelspec": {
   "display_name": "Python 3",
   "language": "python",
   "name": "python3"
  },
  "language_info": {
   "codemirror_mode": {
    "name": "ipython",
    "version": 3
   },
   "file_extension": ".py",
   "mimetype": "text/x-python",
   "name": "python",
   "nbconvert_exporter": "python",
   "pygments_lexer": "ipython3",
   "version": "3.6.8"
  }
 },
 "nbformat": 4,
 "nbformat_minor": 2
}
